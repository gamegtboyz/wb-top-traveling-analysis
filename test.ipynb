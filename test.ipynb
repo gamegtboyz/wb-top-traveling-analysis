{
 "cells": [
  {
   "cell_type": "code",
   "execution_count": 125,
   "id": "56978125",
   "metadata": {},
   "outputs": [],
   "source": [
    "import wbgapi as wb\n",
    "import pandas as pd\n",
    "import statistics as stats"
   ]
  },
  {
   "cell_type": "code",
   "execution_count": 80,
   "id": "bb467c68",
   "metadata": {},
   "outputs": [],
   "source": [
    "country_map = wb.economy.DataFrame()"
   ]
  },
  {
   "cell_type": "code",
   "execution_count": 81,
   "id": "40ef0eb5",
   "metadata": {},
   "outputs": [
    {
     "data": {
      "text/html": [
       "<div>\n",
       "<style scoped>\n",
       "    .dataframe tbody tr th:only-of-type {\n",
       "        vertical-align: middle;\n",
       "    }\n",
       "\n",
       "    .dataframe tbody tr th {\n",
       "        vertical-align: top;\n",
       "    }\n",
       "\n",
       "    .dataframe thead th {\n",
       "        text-align: right;\n",
       "    }\n",
       "</style>\n",
       "<table border=\"1\" class=\"dataframe\">\n",
       "  <thead>\n",
       "    <tr style=\"text-align: right;\">\n",
       "      <th></th>\n",
       "      <th>id</th>\n",
       "      <th>name</th>\n",
       "      <th>aggregate</th>\n",
       "      <th>longitude</th>\n",
       "      <th>latitude</th>\n",
       "      <th>region</th>\n",
       "      <th>adminregion</th>\n",
       "      <th>lendingType</th>\n",
       "      <th>incomeLevel</th>\n",
       "      <th>capitalCity</th>\n",
       "    </tr>\n",
       "  </thead>\n",
       "  <tbody>\n",
       "    <tr>\n",
       "      <th>0</th>\n",
       "      <td>ABW</td>\n",
       "      <td>Aruba</td>\n",
       "      <td>False</td>\n",
       "      <td>-70.0167</td>\n",
       "      <td>12.51670</td>\n",
       "      <td>LCN</td>\n",
       "      <td></td>\n",
       "      <td>LNX</td>\n",
       "      <td>HIC</td>\n",
       "      <td>Oranjestad</td>\n",
       "    </tr>\n",
       "    <tr>\n",
       "      <th>1</th>\n",
       "      <td>AFE</td>\n",
       "      <td>Africa Eastern and Southern</td>\n",
       "      <td>True</td>\n",
       "      <td>NaN</td>\n",
       "      <td>NaN</td>\n",
       "      <td></td>\n",
       "      <td></td>\n",
       "      <td></td>\n",
       "      <td></td>\n",
       "      <td></td>\n",
       "    </tr>\n",
       "    <tr>\n",
       "      <th>2</th>\n",
       "      <td>AFG</td>\n",
       "      <td>Afghanistan</td>\n",
       "      <td>False</td>\n",
       "      <td>69.1761</td>\n",
       "      <td>34.52280</td>\n",
       "      <td>MEA</td>\n",
       "      <td>MNA</td>\n",
       "      <td>IDX</td>\n",
       "      <td>LIC</td>\n",
       "      <td>Kabul</td>\n",
       "    </tr>\n",
       "    <tr>\n",
       "      <th>3</th>\n",
       "      <td>AFW</td>\n",
       "      <td>Africa Western and Central</td>\n",
       "      <td>True</td>\n",
       "      <td>NaN</td>\n",
       "      <td>NaN</td>\n",
       "      <td></td>\n",
       "      <td></td>\n",
       "      <td></td>\n",
       "      <td></td>\n",
       "      <td></td>\n",
       "    </tr>\n",
       "    <tr>\n",
       "      <th>4</th>\n",
       "      <td>AGO</td>\n",
       "      <td>Angola</td>\n",
       "      <td>False</td>\n",
       "      <td>13.2420</td>\n",
       "      <td>-8.81155</td>\n",
       "      <td>SSF</td>\n",
       "      <td>SSA</td>\n",
       "      <td>IBD</td>\n",
       "      <td>LMC</td>\n",
       "      <td>Luanda</td>\n",
       "    </tr>\n",
       "  </tbody>\n",
       "</table>\n",
       "</div>"
      ],
      "text/plain": [
       "    id                         name  aggregate  longitude  latitude region  \\\n",
       "0  ABW                        Aruba      False   -70.0167  12.51670    LCN   \n",
       "1  AFE  Africa Eastern and Southern       True        NaN       NaN          \n",
       "2  AFG                  Afghanistan      False    69.1761  34.52280    MEA   \n",
       "3  AFW   Africa Western and Central       True        NaN       NaN          \n",
       "4  AGO                       Angola      False    13.2420  -8.81155    SSF   \n",
       "\n",
       "  adminregion lendingType incomeLevel capitalCity  \n",
       "0                     LNX         HIC  Oranjestad  \n",
       "1                                                  \n",
       "2         MNA         IDX         LIC       Kabul  \n",
       "3                                                  \n",
       "4         SSA         IBD         LMC      Luanda  "
      ]
     },
     "execution_count": 81,
     "metadata": {},
     "output_type": "execute_result"
    }
   ],
   "source": [
    "country_map.reset_index(inplace=True)\n",
    "\n",
    "country_map.head()"
   ]
  },
  {
   "cell_type": "code",
   "execution_count": 82,
   "id": "ab241401",
   "metadata": {},
   "outputs": [
    {
     "data": {
      "text/html": [
       "<div>\n",
       "<style scoped>\n",
       "    .dataframe tbody tr th:only-of-type {\n",
       "        vertical-align: middle;\n",
       "    }\n",
       "\n",
       "    .dataframe tbody tr th {\n",
       "        vertical-align: top;\n",
       "    }\n",
       "\n",
       "    .dataframe thead th {\n",
       "        text-align: right;\n",
       "    }\n",
       "</style>\n",
       "<table border=\"1\" class=\"dataframe\">\n",
       "  <thead>\n",
       "    <tr style=\"text-align: right;\">\n",
       "      <th></th>\n",
       "      <th>id</th>\n",
       "      <th>name</th>\n",
       "      <th>incomeLevel</th>\n",
       "    </tr>\n",
       "  </thead>\n",
       "  <tbody>\n",
       "    <tr>\n",
       "      <th>0</th>\n",
       "      <td>ABW</td>\n",
       "      <td>Aruba</td>\n",
       "      <td>HIC</td>\n",
       "    </tr>\n",
       "    <tr>\n",
       "      <th>1</th>\n",
       "      <td>AFE</td>\n",
       "      <td>Africa Eastern and Southern</td>\n",
       "      <td></td>\n",
       "    </tr>\n",
       "    <tr>\n",
       "      <th>2</th>\n",
       "      <td>AFG</td>\n",
       "      <td>Afghanistan</td>\n",
       "      <td>LIC</td>\n",
       "    </tr>\n",
       "    <tr>\n",
       "      <th>3</th>\n",
       "      <td>AFW</td>\n",
       "      <td>Africa Western and Central</td>\n",
       "      <td></td>\n",
       "    </tr>\n",
       "    <tr>\n",
       "      <th>4</th>\n",
       "      <td>AGO</td>\n",
       "      <td>Angola</td>\n",
       "      <td>LMC</td>\n",
       "    </tr>\n",
       "  </tbody>\n",
       "</table>\n",
       "</div>"
      ],
      "text/plain": [
       "    id                         name incomeLevel\n",
       "0  ABW                        Aruba         HIC\n",
       "1  AFE  Africa Eastern and Southern            \n",
       "2  AFG                  Afghanistan         LIC\n",
       "3  AFW   Africa Western and Central            \n",
       "4  AGO                       Angola         LMC"
      ]
     },
     "execution_count": 82,
     "metadata": {},
     "output_type": "execute_result"
    }
   ],
   "source": [
    "country_map = country_map[['id','name','incomeLevel']]\n",
    "country_map.head()"
   ]
  },
  {
   "cell_type": "code",
   "execution_count": null,
   "id": "c966a066",
   "metadata": {},
   "outputs": [],
   "source": [
    "# lookup for the indicators available in the library\n",
    "wb.series.info()"
   ]
  },
  {
   "cell_type": "code",
   "execution_count": 121,
   "id": "226b0e2c",
   "metadata": {},
   "outputs": [],
   "source": [
    "selected_indicators = ['NY.GDP.MKTP.CD', 'ST.INT.RCPT.CD', 'ST.INT.ARVL','SP.POP.TOTL']\n",
    "selected_countries = ['USA', 'MEX', 'FRA', 'ITA', 'JPN', 'THA']"
   ]
  },
  {
   "cell_type": "code",
   "execution_count": 160,
   "id": "95510138",
   "metadata": {},
   "outputs": [],
   "source": [
    "data = wb.data.DataFrame(\n",
    "    selected_indicators,\n",
    "    selected_countries,\n",
    "    time=range(2000, 2021)\n",
    ")"
   ]
  },
  {
   "cell_type": "code",
   "execution_count": 186,
   "id": "3440e132",
   "metadata": {},
   "outputs": [
    {
     "data": {
      "text/plain": [
       "MultiIndex([('FRA', 'NY.GDP.MKTP.CD'),\n",
       "            ('FRA',    'SP.POP.TOTL'),\n",
       "            ('FRA',    'ST.INT.ARVL'),\n",
       "            ('FRA', 'ST.INT.RCPT.CD'),\n",
       "            ('ITA', 'NY.GDP.MKTP.CD'),\n",
       "            ('ITA',    'SP.POP.TOTL'),\n",
       "            ('ITA',    'ST.INT.ARVL'),\n",
       "            ('ITA', 'ST.INT.RCPT.CD'),\n",
       "            ('JPN', 'NY.GDP.MKTP.CD'),\n",
       "            ('JPN',    'SP.POP.TOTL'),\n",
       "            ('JPN',    'ST.INT.ARVL'),\n",
       "            ('JPN', 'ST.INT.RCPT.CD'),\n",
       "            ('MEX', 'NY.GDP.MKTP.CD'),\n",
       "            ('MEX',    'SP.POP.TOTL'),\n",
       "            ('MEX',    'ST.INT.ARVL'),\n",
       "            ('MEX', 'ST.INT.RCPT.CD'),\n",
       "            ('THA', 'NY.GDP.MKTP.CD'),\n",
       "            ('THA',    'SP.POP.TOTL'),\n",
       "            ('THA',    'ST.INT.ARVL'),\n",
       "            ('THA', 'ST.INT.RCPT.CD'),\n",
       "            ('USA', 'NY.GDP.MKTP.CD'),\n",
       "            ('USA',    'SP.POP.TOTL'),\n",
       "            ('USA',    'ST.INT.ARVL'),\n",
       "            ('USA', 'ST.INT.RCPT.CD')],\n",
       "           names=['economy', 'series'])"
      ]
     },
     "execution_count": 186,
     "metadata": {},
     "output_type": "execute_result"
    }
   ],
   "source": [
    "data.index"
   ]
  },
  {
   "cell_type": "code",
   "execution_count": 213,
   "id": "9bae05ad",
   "metadata": {},
   "outputs": [
    {
     "data": {
      "text/plain": [
       "np.float64(194400352.94117647)"
      ]
     },
     "execution_count": 213,
     "metadata": {},
     "output_type": "execute_result"
    }
   ],
   "source": [
    "data.loc[[('FRA','ST.INT.ARVL')]].mean(axis=1).values[0]"
   ]
  },
  {
   "cell_type": "code",
   "execution_count": 232,
   "id": "45b397fe",
   "metadata": {},
   "outputs": [
    {
     "data": {
      "text/plain": [
       "np.float64(57693761904.7619)"
      ]
     },
     "execution_count": 232,
     "metadata": {},
     "output_type": "execute_result"
    }
   ],
   "source": [
    "data.loc[[('FRA','ST.INT.RCPT.CD')]].mean(axis=1).values[0]"
   ]
  },
  {
   "cell_type": "code",
   "execution_count": 236,
   "id": "bdfaeca2",
   "metadata": {},
   "outputs": [
    {
     "data": {
      "text/plain": [
       "pandas.core.frame.DataFrame"
      ]
     },
     "execution_count": 236,
     "metadata": {},
     "output_type": "execute_result"
    }
   ],
   "source": [
    "type(data.loc[[('FRA','ST.INT.RCPT.CD')]])"
   ]
  },
  {
   "cell_type": "code",
   "execution_count": 247,
   "id": "c81efd8f",
   "metadata": {},
   "outputs": [
    {
     "data": {
      "text/plain": [
       "economy  series     \n",
       "FRA      ST.INT.ARVL    True\n",
       "Name: YR2000, dtype: bool"
      ]
     },
     "execution_count": 247,
     "metadata": {},
     "output_type": "execute_result"
    }
   ],
   "source": [
    "data.loc[[('FRA','ST.INT.ARVL')]][\"YR2000\"].isna()"
   ]
  },
  {
   "cell_type": "code",
   "execution_count": 267,
   "id": "09f2894c",
   "metadata": {},
   "outputs": [],
   "source": [
    "def ratiofill(fill_df, ref_df):\n",
    "    \"\"\"\n",
    "    fill missing values in fill_df using the ratio of ref_df\n",
    "    The ratio is calculated as the mean of the values in ref_df\n",
    "    for each year, and then applied to fill_df.\n",
    "    \"\"\"\n",
    "    fill_df = fill_df.copy()\n",
    "\n",
    "    # find the ratio of the reference dataframe\n",
    "    ratio = fill_df.mean(axis=1).values[0]/ref_df.mean(axis=1).values[0]\n",
    "\n",
    "    # fill the NaN values\n",
    "    for column in fill_df.columns:\n",
    "        if fill_df[column].isna().values[0]:\n",
    "            print(f\"looking on {column} and found that the na check is {fill_df[column].isna().values[0]}\")\n",
    "            # print(fill_df[column])\n",
    "            fill_df[column].values[0] = ref_df[column] * ratio\n",
    "\n",
    "    return fill_df"
   ]
  },
  {
   "cell_type": "code",
   "execution_count": 268,
   "id": "a2bd79ef",
   "metadata": {},
   "outputs": [
    {
     "name": "stdout",
     "output_type": "stream",
     "text": [
      "looking on YR2000 and found that the na check is True\n",
      "looking on YR2001 and found that the na check is True\n",
      "looking on YR2002 and found that the na check is True\n",
      "looking on YR2003 and found that the na check is True\n"
     ]
    },
    {
     "name": "stderr",
     "output_type": "stream",
     "text": [
      "C:\\Users\\abejr\\AppData\\Local\\Temp\\ipykernel_24908\\91217558.py:17: FutureWarning: Calling float on a single element Series is deprecated and will raise a TypeError in the future. Use float(ser.iloc[0]) instead\n",
      "  fill_df[column].values[0] = ref_df[column] * ratio\n"
     ]
    },
    {
     "data": {
      "text/html": [
       "<div>\n",
       "<style scoped>\n",
       "    .dataframe tbody tr th:only-of-type {\n",
       "        vertical-align: middle;\n",
       "    }\n",
       "\n",
       "    .dataframe tbody tr th {\n",
       "        vertical-align: top;\n",
       "    }\n",
       "\n",
       "    .dataframe thead th {\n",
       "        text-align: right;\n",
       "    }\n",
       "</style>\n",
       "<table border=\"1\" class=\"dataframe\">\n",
       "  <thead>\n",
       "    <tr style=\"text-align: right;\">\n",
       "      <th></th>\n",
       "      <th></th>\n",
       "      <th>YR2000</th>\n",
       "      <th>YR2001</th>\n",
       "      <th>YR2002</th>\n",
       "      <th>YR2003</th>\n",
       "      <th>YR2004</th>\n",
       "      <th>YR2005</th>\n",
       "      <th>YR2006</th>\n",
       "      <th>YR2007</th>\n",
       "      <th>YR2008</th>\n",
       "      <th>YR2009</th>\n",
       "      <th>...</th>\n",
       "      <th>YR2011</th>\n",
       "      <th>YR2012</th>\n",
       "      <th>YR2013</th>\n",
       "      <th>YR2014</th>\n",
       "      <th>YR2015</th>\n",
       "      <th>YR2016</th>\n",
       "      <th>YR2017</th>\n",
       "      <th>YR2018</th>\n",
       "      <th>YR2019</th>\n",
       "      <th>YR2020</th>\n",
       "    </tr>\n",
       "    <tr>\n",
       "      <th>economy</th>\n",
       "      <th>series</th>\n",
       "      <th></th>\n",
       "      <th></th>\n",
       "      <th></th>\n",
       "      <th></th>\n",
       "      <th></th>\n",
       "      <th></th>\n",
       "      <th></th>\n",
       "      <th></th>\n",
       "      <th></th>\n",
       "      <th></th>\n",
       "      <th></th>\n",
       "      <th></th>\n",
       "      <th></th>\n",
       "      <th></th>\n",
       "      <th></th>\n",
       "      <th></th>\n",
       "      <th></th>\n",
       "      <th></th>\n",
       "      <th></th>\n",
       "      <th></th>\n",
       "      <th></th>\n",
       "    </tr>\n",
       "  </thead>\n",
       "  <tbody>\n",
       "    <tr>\n",
       "      <th>FRA</th>\n",
       "      <th>ST.INT.ARVL</th>\n",
       "      <td>1.304207e+08</td>\n",
       "      <td>1.274555e+08</td>\n",
       "      <td>1.385311e+08</td>\n",
       "      <td>1.569388e+08</td>\n",
       "      <td>190282000.0</td>\n",
       "      <td>185829000.0</td>\n",
       "      <td>193882000.0</td>\n",
       "      <td>193319000.0</td>\n",
       "      <td>193571000.0</td>\n",
       "      <td>192369000.0</td>\n",
       "      <td>...</td>\n",
       "      <td>196595000.0</td>\n",
       "      <td>197522000.0</td>\n",
       "      <td>204410000.0</td>\n",
       "      <td>206599000.0</td>\n",
       "      <td>203302000.0</td>\n",
       "      <td>203042000.0</td>\n",
       "      <td>207274000.0</td>\n",
       "      <td>211998000.0</td>\n",
       "      <td>217877000.0</td>\n",
       "      <td>117109000.0</td>\n",
       "    </tr>\n",
       "  </tbody>\n",
       "</table>\n",
       "<p>1 rows × 21 columns</p>\n",
       "</div>"
      ],
      "text/plain": [
       "                           YR2000        YR2001        YR2002        YR2003  \\\n",
       "economy series                                                                \n",
       "FRA     ST.INT.ARVL  1.304207e+08  1.274555e+08  1.385311e+08  1.569388e+08   \n",
       "\n",
       "                          YR2004       YR2005       YR2006       YR2007  \\\n",
       "economy series                                                            \n",
       "FRA     ST.INT.ARVL  190282000.0  185829000.0  193882000.0  193319000.0   \n",
       "\n",
       "                          YR2008       YR2009  ...       YR2011       YR2012  \\\n",
       "economy series                                 ...                             \n",
       "FRA     ST.INT.ARVL  193571000.0  192369000.0  ...  196595000.0  197522000.0   \n",
       "\n",
       "                          YR2013       YR2014       YR2015       YR2016  \\\n",
       "economy series                                                            \n",
       "FRA     ST.INT.ARVL  204410000.0  206599000.0  203302000.0  203042000.0   \n",
       "\n",
       "                          YR2017       YR2018       YR2019       YR2020  \n",
       "economy series                                                           \n",
       "FRA     ST.INT.ARVL  207274000.0  211998000.0  217877000.0  117109000.0  \n",
       "\n",
       "[1 rows x 21 columns]"
      ]
     },
     "execution_count": 268,
     "metadata": {},
     "output_type": "execute_result"
    }
   ],
   "source": [
    "ratiofill(data.loc[[('FRA','ST.INT.ARVL')]], data.loc[[('FRA','ST.INT.RCPT.CD')]])"
   ]
  },
  {
   "cell_type": "code",
   "execution_count": 238,
   "id": "7b855029",
   "metadata": {},
   "outputs": [
    {
     "data": {
      "text/html": [
       "<div>\n",
       "<style scoped>\n",
       "    .dataframe tbody tr th:only-of-type {\n",
       "        vertical-align: middle;\n",
       "    }\n",
       "\n",
       "    .dataframe tbody tr th {\n",
       "        vertical-align: top;\n",
       "    }\n",
       "\n",
       "    .dataframe thead th {\n",
       "        text-align: right;\n",
       "    }\n",
       "</style>\n",
       "<table border=\"1\" class=\"dataframe\">\n",
       "  <thead>\n",
       "    <tr style=\"text-align: right;\">\n",
       "      <th></th>\n",
       "      <th></th>\n",
       "      <th>YR2000</th>\n",
       "      <th>YR2001</th>\n",
       "      <th>YR2002</th>\n",
       "      <th>YR2003</th>\n",
       "      <th>YR2004</th>\n",
       "      <th>YR2005</th>\n",
       "      <th>YR2006</th>\n",
       "      <th>YR2007</th>\n",
       "      <th>YR2008</th>\n",
       "      <th>YR2009</th>\n",
       "      <th>...</th>\n",
       "      <th>YR2011</th>\n",
       "      <th>YR2012</th>\n",
       "      <th>YR2013</th>\n",
       "      <th>YR2014</th>\n",
       "      <th>YR2015</th>\n",
       "      <th>YR2016</th>\n",
       "      <th>YR2017</th>\n",
       "      <th>YR2018</th>\n",
       "      <th>YR2019</th>\n",
       "      <th>YR2020</th>\n",
       "    </tr>\n",
       "    <tr>\n",
       "      <th>economy</th>\n",
       "      <th>series</th>\n",
       "      <th></th>\n",
       "      <th></th>\n",
       "      <th></th>\n",
       "      <th></th>\n",
       "      <th></th>\n",
       "      <th></th>\n",
       "      <th></th>\n",
       "      <th></th>\n",
       "      <th></th>\n",
       "      <th></th>\n",
       "      <th></th>\n",
       "      <th></th>\n",
       "      <th></th>\n",
       "      <th></th>\n",
       "      <th></th>\n",
       "      <th></th>\n",
       "      <th></th>\n",
       "      <th></th>\n",
       "      <th></th>\n",
       "      <th></th>\n",
       "      <th></th>\n",
       "    </tr>\n",
       "  </thead>\n",
       "  <tbody>\n",
       "    <tr>\n",
       "      <th>FRA</th>\n",
       "      <th>ST.INT.ARVL</th>\n",
       "      <td>True</td>\n",
       "      <td>True</td>\n",
       "      <td>True</td>\n",
       "      <td>True</td>\n",
       "      <td>False</td>\n",
       "      <td>False</td>\n",
       "      <td>False</td>\n",
       "      <td>False</td>\n",
       "      <td>False</td>\n",
       "      <td>False</td>\n",
       "      <td>...</td>\n",
       "      <td>False</td>\n",
       "      <td>False</td>\n",
       "      <td>False</td>\n",
       "      <td>False</td>\n",
       "      <td>False</td>\n",
       "      <td>False</td>\n",
       "      <td>False</td>\n",
       "      <td>False</td>\n",
       "      <td>False</td>\n",
       "      <td>False</td>\n",
       "    </tr>\n",
       "  </tbody>\n",
       "</table>\n",
       "<p>1 rows × 21 columns</p>\n",
       "</div>"
      ],
      "text/plain": [
       "                     YR2000  YR2001  YR2002  YR2003  YR2004  YR2005  YR2006  \\\n",
       "economy series                                                                \n",
       "FRA     ST.INT.ARVL    True    True    True    True   False   False   False   \n",
       "\n",
       "                     YR2007  YR2008  YR2009  ...  YR2011  YR2012  YR2013  \\\n",
       "economy series                               ...                           \n",
       "FRA     ST.INT.ARVL   False   False   False  ...   False   False   False   \n",
       "\n",
       "                     YR2014  YR2015  YR2016  YR2017  YR2018  YR2019  YR2020  \n",
       "economy series                                                               \n",
       "FRA     ST.INT.ARVL   False   False   False   False   False   False   False  \n",
       "\n",
       "[1 rows x 21 columns]"
      ]
     },
     "execution_count": 238,
     "metadata": {},
     "output_type": "execute_result"
    }
   ],
   "source": [
    "data.loc[[('FRA','ST.INT.ARVL')]].isna()"
   ]
  },
  {
   "cell_type": "code",
   "execution_count": null,
   "id": "abfc60e2",
   "metadata": {},
   "outputs": [],
   "source": [
    "# # join the country with income levels\n",
    "# data = data.merge(country_map, left_on='economy', right_on='id')\n",
    "# data[data['economy']=='FRA']"
   ]
  }
 ],
 "metadata": {
  "kernelspec": {
   "display_name": "Python 3",
   "language": "python",
   "name": "python3"
  },
  "language_info": {
   "codemirror_mode": {
    "name": "ipython",
    "version": 3
   },
   "file_extension": ".py",
   "mimetype": "text/x-python",
   "name": "python",
   "nbconvert_exporter": "python",
   "pygments_lexer": "ipython3",
   "version": "3.13.5"
  }
 },
 "nbformat": 4,
 "nbformat_minor": 5
}
